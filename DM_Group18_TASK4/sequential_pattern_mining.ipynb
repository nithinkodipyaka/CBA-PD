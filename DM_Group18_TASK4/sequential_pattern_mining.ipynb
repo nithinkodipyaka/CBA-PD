{
 "cells": [
  {
   "cell_type": "markdown",
   "metadata": {},
   "source": [
    "# Task 4: Sequential Pattern Mining"
   ]
  },
  {
   "cell_type": "code",
   "execution_count": 1,
   "metadata": {},
   "outputs": [],
   "source": [
    "import re\n",
    "import copy\n",
    "import numpy as np\n",
    "import pandas as pd\n",
    "from spmf import Spmf\n",
    "from operator import neg"
   ]
  },
  {
   "cell_type": "code",
   "execution_count": 2,
   "metadata": {},
   "outputs": [],
   "source": [
    "def spmf_encode_with_timestamp(dataset):\n",
    "    \"\"\"\n",
    "    e.g.\n",
    "    \n",
    "    dataset = [\n",
    "        # sequence: list of events\n",
    "        [(0, ['a']), (1, ['a', 'b', 'c']), (2, ['a', 'c']), (3, ['c'])],  # event: (timestamp : [list of strings])\n",
    "        [(0, ['a']), (1, ['c']), (2, ['b', 'c'])], \n",
    "        [(0, ['a', 'b']), (1, ['d']), (2, ['c']), (3, ['b']), (4, ['c'])], \n",
    "        [(0, ['a']), (1, ['c']), (2, ['b']), (3, ['c'])]\n",
    "    ]\n",
    "    \n",
    "    @CONVERTED_FROM_TEXT\n",
    "    @ITEM=0=a\n",
    "    @ITEM=1=b\n",
    "    @ITEM=2=c\n",
    "    @ITEM=3=d\n",
    "    <0> 0 -1 <1> 0 1 2 -1 <2> 0 2 -1 <3> 2 -1 -2\n",
    "    <0> 0 -1 <1> 2 -1 <2> 1 2 -1 -2\n",
    "    <0> 0 1 -1 <1> 3 -1 <2> 2 -1 <3> 1 -1 <4> 2 -1 -2\n",
    "    <0> 0 -1 <1> 2 -1 <2> 1 -1 <3> 2 -1 -2\n",
    "    \"\"\"\n",
    "    \n",
    "    items = sorted(set(item.replace(' ', '_') for sequence in dataset \n",
    "                       for event in sequence \n",
    "                       for item in (event[1] if isinstance(event, tuple) else event)))\n",
    "\n",
    "    labels_dict = dict(zip(items, range(len(items))))\n",
    "\n",
    "    spmf_str = '@CONVERTED_FROM_TEXT' + '\\n'\n",
    "    for item, idx in labels_dict.items():\n",
    "        spmf_str += '@ITEM=' + str(idx) + '=' + item + '\\n'\n",
    "\n",
    "    for sequence in dataset:\n",
    "        for t, event in sequence if isinstance(sequence[0], tuple) else enumerate(sequence):\n",
    "            spmf_str += '<' + str(t) + '>' + ' '\n",
    "            for item in event:\n",
    "                spmf_str += str(labels_dict[item.replace(' ', '_')]) + ' '\n",
    "            spmf_str += '-1' + ' '\n",
    "        spmf_str += '-2' + '\\n'\n",
    "    return spmf_str"
   ]
  },
  {
   "cell_type": "markdown",
   "metadata": {},
   "source": [
    "## GSP: Apriori-based Sequential Pattern Mining"
   ]
  },
  {
   "cell_type": "code",
   "execution_count": 3,
   "metadata": {},
   "outputs": [],
   "source": [
    "dataset = [\n",
    "    # sequence: list of events\n",
    "    [['a'], ['a', 'b', 'c'], ['a', 'c'], ['c']],  # event: [list of strings]\n",
    "    [['a'], ['c'], ['b', 'c']], \n",
    "    [['a', 'b'], ['d'], ['c'], ['b'], ['c']], \n",
    "    [['a'], ['c'], ['b'], ['c']]\n",
    "]"
   ]
  },
  {
   "cell_type": "code",
   "execution_count": 4,
   "metadata": {},
   "outputs": [],
   "source": [
    "def is_subsequence(main_sequence, subsequence):\n",
    "    \"\"\"\n",
    "    Recursive method that checks if `subsequence` is a subsequence of `main_sequence`\n",
    "    \"\"\"\n",
    "\n",
    "    def is_subsequence_recursive(subsequence_clone, start=0):\n",
    "        \"\"\"\n",
    "        Function for the recursive call of is_subsequence\n",
    "        \"\"\"\n",
    "        # check if empty: end of recursion, all itemsets have been found\n",
    "        if not subsequence_clone:\n",
    "            return True\n",
    "        # retrieves element of the subsequence and removes is from subsequence \n",
    "        first_elem = set(subsequence_clone.pop(0))\n",
    "        # search for the first itemset...\n",
    "        for i in range(start, len(main_sequence)):\n",
    "            if set(main_sequence[i]).issuperset(first_elem):\n",
    "                # and recurse\n",
    "                return is_subsequence_recursive(subsequence_clone, i + 1)\n",
    "        return False\n",
    "\n",
    "    return is_subsequence_recursive(subsequence.copy()) # start recursion"
   ]
  },
  {
   "cell_type": "code",
   "execution_count": 5,
   "metadata": {},
   "outputs": [],
   "source": [
    "sequence = [['a'], ['b', 'c'], ['d'], ['a', 'e']]"
   ]
  },
  {
   "cell_type": "code",
   "execution_count": 6,
   "metadata": {
    "collapsed": false,
    "jupyter": {
     "outputs_hidden": false
    }
   },
   "outputs": [
    {
     "data": {
      "text/plain": [
       "True"
      ]
     },
     "execution_count": 6,
     "metadata": {},
     "output_type": "execute_result"
    }
   ],
   "source": [
    "is_subsequence(sequence, [['a'], ['b', 'c'], ['e']])"
   ]
  },
  {
   "cell_type": "code",
   "execution_count": 7,
   "metadata": {
    "collapsed": false,
    "jupyter": {
     "outputs_hidden": false
    }
   },
   "outputs": [
    {
     "data": {
      "text/plain": [
       "False"
      ]
     },
     "execution_count": 7,
     "metadata": {},
     "output_type": "execute_result"
    }
   ],
   "source": [
    "is_subsequence(sequence, [['a'], ['b', 'd']])"
   ]
  },
  {
   "cell_type": "code",
   "execution_count": 8,
   "metadata": {},
   "outputs": [],
   "source": [
    "def sequence_length(sequence):\n",
    "    \"\"\"\n",
    "    Computes the length of the sequence (sum of the length of the contained itemsets)\n",
    "    \"\"\"\n",
    "    return sum(len(i) for i in sequence)"
   ]
  },
  {
   "cell_type": "code",
   "execution_count": 9,
   "metadata": {
    "collapsed": false,
    "jupyter": {
     "outputs_hidden": false
    }
   },
   "outputs": [
    {
     "data": {
      "text/plain": [
       "7"
      ]
     },
     "execution_count": 9,
     "metadata": {},
     "output_type": "execute_result"
    }
   ],
   "source": [
    "sequence_length([['a'], ['b', 'c'], ['a'], ['b', 'c', 'd']])"
   ]
  },
  {
   "cell_type": "code",
   "execution_count": 10,
   "metadata": {},
   "outputs": [],
   "source": [
    "def supports(sequence, cand_seq, max_span=np.inf, min_gap=0, max_gap=np.inf):\n",
    "    for idx, event in enumerate(sequence):\n",
    "        i = 0\n",
    "        if set(event[1] if isinstance(event, tuple) else event).issuperset(cand_seq[i]):\n",
    "            min_t = event[0] if isinstance(event, tuple) else idx\n",
    "            i += 1\n",
    "\n",
    "            # special case if cand_seq is a sequence of one element\n",
    "            if i == len(cand_seq):\n",
    "                return True\n",
    "\n",
    "            prev_t = event[0] if isinstance(event, tuple) else idx\n",
    "\n",
    "            for t, itemset in (sequence[idx + 1:] if isinstance(sequence[idx], tuple) \n",
    "                               else enumerate(sequence[idx + 1:], start=idx + 1)):\n",
    "\n",
    "                # the min_gap constraint is violated\n",
    "                if not t - prev_t > min_gap:\n",
    "                    continue\n",
    "\n",
    "                # the max_gap constraint is violated\n",
    "                if not t - prev_t <= max_gap:\n",
    "                    break\n",
    "\n",
    "                # the max_span constraint is violated\n",
    "                if t - min_t > max_span:\n",
    "                    break\n",
    "\n",
    "                if set(itemset).issuperset(cand_seq[i]):\n",
    "                    i += 1\n",
    "\n",
    "                # the sequence satisfies all the time constraints\n",
    "                if i == len(cand_seq):\n",
    "                    return True\n",
    "    return False"
   ]
  },
  {
   "cell_type": "markdown",
   "metadata": {},
   "source": [
    "Examples from Kumar's book, page 437:"
   ]
  },
  {
   "cell_type": "code",
   "execution_count": 11,
   "metadata": {},
   "outputs": [],
   "source": [
    "sequence = [[1, 3], [3, 4], [4], [5], [6, 7], [8]]"
   ]
  },
  {
   "cell_type": "code",
   "execution_count": 12,
   "metadata": {},
   "outputs": [
    {
     "name": "stdout",
     "output_type": "stream",
     "text": [
      "True\n",
      "True\n",
      "False\n"
     ]
    }
   ],
   "source": [
    "print(supports(sequence, [[3], [4]], max_span=3))\n",
    "print(supports(sequence, [[3], [6]], max_span=3))\n",
    "print(supports(sequence, [[1, 3], [6]], max_span=3))"
   ]
  },
  {
   "cell_type": "code",
   "execution_count": 13,
   "metadata": {},
   "outputs": [
    {
     "name": "stdout",
     "output_type": "stream",
     "text": [
      "True\n",
      "True\n"
     ]
    }
   ],
   "source": [
    "print(supports(sequence, [[3], [6]], min_gap=1))\n",
    "print(supports(sequence, [[3], [6]], max_gap=3))"
   ]
  },
  {
   "cell_type": "code",
   "execution_count": 14,
   "metadata": {},
   "outputs": [
    {
     "name": "stdout",
     "output_type": "stream",
     "text": [
      "False\n",
      "True\n"
     ]
    }
   ],
   "source": [
    "print(supports(sequence, [[6], [8]], min_gap=1))\n",
    "print(supports(sequence, [[6], [8]], max_gap=3))"
   ]
  },
  {
   "cell_type": "code",
   "execution_count": 15,
   "metadata": {},
   "outputs": [
    {
     "name": "stdout",
     "output_type": "stream",
     "text": [
      "True\n",
      "False\n"
     ]
    }
   ],
   "source": [
    "print(supports(sequence, [[1, 3], [6]], min_gap=1))\n",
    "print(supports(sequence, [[1, 3], [6]], max_gap=3))"
   ]
  },
  {
   "cell_type": "code",
   "execution_count": 16,
   "metadata": {},
   "outputs": [
    {
     "name": "stdout",
     "output_type": "stream",
     "text": [
      "False\n",
      "False\n"
     ]
    }
   ],
   "source": [
    "print(supports(sequence, [[1], [3], [8]], min_gap=1))\n",
    "print(supports(sequence, [[1], [3], [8]], max_gap=3))"
   ]
  },
  {
   "cell_type": "markdown",
   "metadata": {},
   "source": [
    "Examples from [Kumar's book slides](https://www-users.cs.umn.edu/~kumar001/dmbook/slides/chap6_advanced_association_analysis.pdf#page=25), slide 50:"
   ]
  },
  {
   "cell_type": "code",
   "execution_count": 17,
   "metadata": {},
   "outputs": [
    {
     "data": {
      "text/plain": [
       "True"
      ]
     },
     "execution_count": 17,
     "metadata": {},
     "output_type": "execute_result"
    }
   ],
   "source": [
    "supports([[2, 4], [3, 5, 6], [4, 7], [4, 5], [8]], [[6], [5]], max_span=4, min_gap=0, max_gap=2)"
   ]
  },
  {
   "cell_type": "code",
   "execution_count": 18,
   "metadata": {},
   "outputs": [
    {
     "data": {
      "text/plain": [
       "False"
      ]
     },
     "execution_count": 18,
     "metadata": {},
     "output_type": "execute_result"
    }
   ],
   "source": [
    "supports([[1], [2], [3], [4], [5]], [[1], [4]], max_span=4, min_gap=0, max_gap=2)"
   ]
  },
  {
   "cell_type": "code",
   "execution_count": 19,
   "metadata": {},
   "outputs": [
    {
     "data": {
      "text/plain": [
       "True"
      ]
     },
     "execution_count": 19,
     "metadata": {},
     "output_type": "execute_result"
    }
   ],
   "source": [
    "supports([[1], [2, 3], [3, 4], [4, 5]], [[2], [3], [5]], max_span=4, min_gap=0, max_gap=2)"
   ]
  },
  {
   "cell_type": "code",
   "execution_count": 20,
   "metadata": {},
   "outputs": [
    {
     "data": {
      "text/plain": [
       "False"
      ]
     },
     "execution_count": 20,
     "metadata": {},
     "output_type": "execute_result"
    }
   ],
   "source": [
    "supports([[1, 2], [3], [2, 3], [3, 4], [2, 4], (6, [4, 5])], [[1, 2], [5]], max_span=4, min_gap=0, max_gap=2)"
   ]
  },
  {
   "cell_type": "code",
   "execution_count": 21,
   "metadata": {},
   "outputs": [],
   "source": [
    "def count_support(dataset, cand_seq, max_span=np.inf, min_gap=0, max_gap=np.inf):\n",
    "    \"\"\"\n",
    "    Computes the support of a sequence in a dataset provided time constraints\n",
    "    \"\"\"\n",
    "    if max_span == np.inf and min_gap == 0 and max_gap == np.inf: # no time constraints\n",
    "        return sum(1 for seq in dataset if is_subsequence([event[1] for event in seq] if isinstance(seq[0], tuple) else seq, cand_seq))\n",
    "    else:\n",
    "        return sum(1 for seq in dataset if supports(seq, cand_seq, max_span, min_gap, max_gap))"
   ]
  },
  {
   "cell_type": "code",
   "execution_count": 22,
   "metadata": {
    "collapsed": false,
    "jupyter": {
     "outputs_hidden": false
    }
   },
   "outputs": [
    {
     "data": {
      "text/plain": [
       "4"
      ]
     },
     "execution_count": 22,
     "metadata": {},
     "output_type": "execute_result"
    }
   ],
   "source": [
    "count_support(dataset, [['b']])"
   ]
  },
  {
   "cell_type": "code",
   "execution_count": 23,
   "metadata": {
    "collapsed": false,
    "jupyter": {
     "outputs_hidden": false
    }
   },
   "outputs": [
    {
     "data": {
      "text/plain": [
       "2"
      ]
     },
     "execution_count": 23,
     "metadata": {},
     "output_type": "execute_result"
    }
   ],
   "source": [
    "count_support(dataset, [['a'], ['b', 'c']])"
   ]
  },
  {
   "cell_type": "code",
   "execution_count": 24,
   "metadata": {},
   "outputs": [],
   "source": [
    "def gen_cands_for_pair(cand1, cand2):\n",
    "    \"\"\"\n",
    "    Generates one candidate of length k from two candidates of length (k-1)\n",
    "    \"\"\"\n",
    "    cand1_clone = copy.deepcopy(cand1)\n",
    "    cand2_clone = copy.deepcopy(cand2)\n",
    "    # drop the leftmost item from cand1:\n",
    "    if len(cand1[0]) == 1:\n",
    "        cand1_clone.pop(0)\n",
    "    else:\n",
    "        cand1_clone[0] = cand1_clone[0][1:]\n",
    "    # drop the rightmost item from cand2:\n",
    "    if len(cand2[-1]) == 1:\n",
    "        cand2_clone.pop(-1)\n",
    "    else:\n",
    "        cand2_clone[-1] = cand2_clone[-1][:-1]\n",
    "    \n",
    "    # if the result is not the same, then we dont need to join\n",
    "    if not cand1_clone == cand2_clone:\n",
    "        return []\n",
    "    else:\n",
    "        new_cand = copy.deepcopy(cand1)\n",
    "        if len(cand2[-1]) == 1:\n",
    "            new_cand.append(cand2[-1])\n",
    "        else:\n",
    "            new_cand[-1].extend([cand2[-1][-1]])\n",
    "        return new_cand"
   ]
  },
  {
   "cell_type": "code",
   "execution_count": 25,
   "metadata": {
    "collapsed": false,
    "jupyter": {
     "outputs_hidden": false
    }
   },
   "outputs": [
    {
     "data": {
      "text/plain": [
       "[['a'], ['b', 'c'], ['d', 'e']]"
      ]
     },
     "execution_count": 25,
     "metadata": {},
     "output_type": "execute_result"
    }
   ],
   "source": [
    "candA = [['a'], ['b', 'c'], ['d']]\n",
    "candB = [['b', 'c'], ['d', 'e']]\n",
    "gen_cands_for_pair(candA, candB)"
   ]
  },
  {
   "cell_type": "code",
   "execution_count": 26,
   "metadata": {
    "collapsed": false,
    "jupyter": {
     "outputs_hidden": false
    }
   },
   "outputs": [
    {
     "data": {
      "text/plain": [
       "[['a'], ['b', 'c'], ['d'], ['e']]"
      ]
     },
     "execution_count": 26,
     "metadata": {},
     "output_type": "execute_result"
    }
   ],
   "source": [
    "candA = [['a'], ['b', 'c'], ['d']]\n",
    "candC = [['b', 'c'], ['d'], ['e']]\n",
    "gen_cands_for_pair(candA, candC)"
   ]
  },
  {
   "cell_type": "code",
   "execution_count": 27,
   "metadata": {
    "collapsed": false,
    "jupyter": {
     "outputs_hidden": false
    }
   },
   "outputs": [
    {
     "data": {
      "text/plain": [
       "[]"
      ]
     },
     "execution_count": 27,
     "metadata": {},
     "output_type": "execute_result"
    }
   ],
   "source": [
    "candA = [['a'], ['b', 'c'], ['d']]\n",
    "candD = [['a'], ['b', 'c'], ['e']]\n",
    "gen_cands_for_pair(candA, candD)"
   ]
  },
  {
   "cell_type": "code",
   "execution_count": 28,
   "metadata": {},
   "outputs": [],
   "source": [
    "def gen_cands(last_lvl_cands):\n",
    "    \"\"\"\n",
    "    Generates the set of candidates of length k from the set of frequent sequences with length (k-1)\n",
    "    \"\"\"\n",
    "    k = sequence_length(last_lvl_cands[0]) + 1\n",
    "    if k == 2:\n",
    "        flat_short_cands = [item for sublist2 in last_lvl_cands for sublist1 in sublist2 for item in sublist1]\n",
    "        result = [[[a, b]] for a in flat_short_cands for b in flat_short_cands if b > a]\n",
    "        result.extend([[[a], [b]] for a in flat_short_cands for b in flat_short_cands])\n",
    "        return result\n",
    "    else:\n",
    "        cands = []\n",
    "        for i in range(0, len(last_lvl_cands)):\n",
    "            for j in range(0, len(last_lvl_cands)):\n",
    "                new_cand = gen_cands_for_pair(last_lvl_cands[i], last_lvl_cands[j])\n",
    "                if not new_cand == []:\n",
    "                    cands.append(new_cand)\n",
    "        cands.sort()\n",
    "        return cands"
   ]
  },
  {
   "cell_type": "markdown",
   "metadata": {},
   "source": [
    "Lets assume we know the frequent sequences of level 2:"
   ]
  },
  {
   "cell_type": "code",
   "execution_count": 29,
   "metadata": {},
   "outputs": [],
   "source": [
    "last_lvl_freq_patterns = [\n",
    "    [['a', 'b']], \n",
    "    [['b', 'c']], \n",
    "    [['a'], ['b']], \n",
    "    [['a'], ['c']], \n",
    "    [['b'], ['c']], \n",
    "    [['c'], ['b']], \n",
    "    [['c'], ['c']]\n",
    "]"
   ]
  },
  {
   "cell_type": "markdown",
   "metadata": {},
   "source": [
    "Then we can compute the generate candidates for level 3:"
   ]
  },
  {
   "cell_type": "code",
   "execution_count": 30,
   "metadata": {
    "collapsed": false,
    "jupyter": {
     "outputs_hidden": false
    }
   },
   "outputs": [
    {
     "data": {
      "text/plain": [
       "[[['a'], ['b'], ['c']],\n",
       " [['a'], ['b', 'c']],\n",
       " [['a'], ['c'], ['b']],\n",
       " [['a'], ['c'], ['c']],\n",
       " [['a', 'b'], ['c']],\n",
       " [['a', 'b', 'c']],\n",
       " [['b'], ['c'], ['b']],\n",
       " [['b'], ['c'], ['c']],\n",
       " [['b', 'c'], ['b']],\n",
       " [['b', 'c'], ['c']],\n",
       " [['c'], ['b'], ['c']],\n",
       " [['c'], ['b', 'c']],\n",
       " [['c'], ['c'], ['b']],\n",
       " [['c'], ['c'], ['c']]]"
      ]
     },
     "execution_count": 30,
     "metadata": {},
     "output_type": "execute_result"
    }
   ],
   "source": [
    "new_cands = gen_cands(last_lvl_freq_patterns)\n",
    "new_cands"
   ]
  },
  {
   "cell_type": "code",
   "execution_count": 31,
   "metadata": {},
   "outputs": [],
   "source": [
    "def gen_direct_subsequences(sequence):\n",
    "    \"\"\"\n",
    "    Computes all direct subsequence for a given sequence.\n",
    "    A direct subsequence is any sequence that originates from deleting exactly one item from any event in the original sequence.\n",
    "    \"\"\"\n",
    "    result = []\n",
    "    for i, itemset in enumerate(sequence):\n",
    "        if len(itemset) == 1:\n",
    "            seq_clone = copy.deepcopy(sequence)\n",
    "            seq_clone.pop(i)\n",
    "            result.append(seq_clone)\n",
    "        else:\n",
    "            for j in range(len(itemset)):\n",
    "                seq_clone = copy.deepcopy(sequence)\n",
    "                seq_clone[i].pop(j)\n",
    "                result.append(seq_clone)\n",
    "    return result"
   ]
  },
  {
   "cell_type": "code",
   "execution_count": 32,
   "metadata": {},
   "outputs": [],
   "source": [
    "def gen_contiguous_direct_subsequences(sequence):\n",
    "    \"\"\"\n",
    "    Computes all direct contiguous subsequence for a given sequence.\n",
    "    \"\"\"\n",
    "    result = []\n",
    "    for i, itemset in enumerate(sequence):\n",
    "        # first or last element\n",
    "        if i == 0 or i == len(sequence) - 1:\n",
    "            if len(itemset) == 1:\n",
    "                seq_clone = copy.deepcopy(sequence)\n",
    "                seq_clone.pop(i)\n",
    "                result.append(seq_clone)\n",
    "            else:\n",
    "                for j in range(len(itemset)):\n",
    "                    seq_clone = copy.deepcopy(sequence)\n",
    "                    seq_clone[i].pop(j)\n",
    "                    result.append(seq_clone)\n",
    "        else:  # middle element\n",
    "            if len(itemset) > 1:\n",
    "                for j in range(len(itemset)):\n",
    "                    seq_clone = copy.deepcopy(sequence)\n",
    "                    seq_clone[i].pop(j)\n",
    "                    result.append(seq_clone)\n",
    "    return result"
   ]
  },
  {
   "cell_type": "code",
   "execution_count": 33,
   "metadata": {},
   "outputs": [],
   "source": [
    "def prune_cands(last_lvl_cands, cands_gen, max_gap=np.inf):\n",
    "    \"\"\"\n",
    "    Prunes the set of (contiguous) candidates generated for length k given all frequent sequence of level (k-1).\n",
    "    Without maxgap constraint: a candidate k-sequence is pruned if at least one of its (k-1)-subsequences is infrequent.\n",
    "    With maxgap constraint: a candidate k-sequence is pruned if at least one of its contiguous (k-1)-subsequences is infrequent.\n",
    "    \"\"\"\n",
    "    return [cand for cand in cands_gen if all(x in last_lvl_cands for x in (gen_contiguous_direct_subsequences(cand) if max_gap != np.inf \n",
    "                                                                            else gen_direct_subsequences(cand)))]"
   ]
  },
  {
   "cell_type": "markdown",
   "metadata": {},
   "source": [
    "We apply this on example dataset:"
   ]
  },
  {
   "cell_type": "code",
   "execution_count": 34,
   "metadata": {
    "collapsed": false,
    "jupyter": {
     "outputs_hidden": false
    }
   },
   "outputs": [
    {
     "data": {
      "text/plain": [
       "[[['a'], ['b'], ['c']],\n",
       " [['a'], ['b', 'c']],\n",
       " [['a'], ['c'], ['b']],\n",
       " [['a'], ['c'], ['c']],\n",
       " [['a', 'b'], ['c']],\n",
       " [['b'], ['c'], ['c']],\n",
       " [['b', 'c'], ['c']],\n",
       " [['c'], ['b'], ['c']],\n",
       " [['c'], ['b', 'c']],\n",
       " [['c'], ['c'], ['b']],\n",
       " [['c'], ['c'], ['c']]]"
      ]
     },
     "execution_count": 34,
     "metadata": {},
     "output_type": "execute_result"
    }
   ],
   "source": [
    "cands_pruned = prune_cands(last_lvl_freq_patterns, new_cands)\n",
    "cands_pruned"
   ]
  },
  {
   "cell_type": "code",
   "execution_count": 35,
   "metadata": {
    "collapsed": false,
    "jupyter": {
     "outputs_hidden": false
    }
   },
   "outputs": [
    {
     "data": {
      "text/plain": [
       "[([['a'], ['b'], ['c']], 3),\n",
       " ([['a'], ['b', 'c']], 2),\n",
       " ([['a'], ['c'], ['b']], 3),\n",
       " ([['a'], ['c'], ['c']], 4),\n",
       " ([['a', 'b'], ['c']], 2),\n",
       " ([['b'], ['c'], ['c']], 2),\n",
       " ([['c'], ['b'], ['c']], 2)]"
      ]
     },
     "execution_count": 35,
     "metadata": {},
     "output_type": "execute_result"
    }
   ],
   "source": [
    "min_sup = 0.5\n",
    "cands_counts = [(s, count_support(dataset, s)) for s in cands_pruned]\n",
    "result_lvl = [(i, count) for i, count in cands_counts if count >= min_sup * len(dataset)]\n",
    "result_lvl"
   ]
  },
  {
   "cell_type": "code",
   "execution_count": 36,
   "metadata": {
    "collapsed": false,
    "jupyter": {
     "outputs_hidden": false
    }
   },
   "outputs": [],
   "source": [
    "def gsp(dataset, min_sup, max_span=np.inf, min_gap=0, max_gap=np.inf, verbose=False):\n",
    "    \"\"\"\n",
    "    The Generalized Sequential Pattern (GSP) algorithm with time constraints. \n",
    "    Computes the frequent sequences in a sequence dataset.\n",
    "\n",
    "    Args:\n",
    "        dataset: a list of sequences, for which the frequent (sub-)sequences are computed\n",
    "        min_sup: the minimum support that makes a sequence frequent\n",
    "        max_span: this constraint specifies the maximum allowed time difference in days between the latest \n",
    "                  and the earliest occurrences of events in the entire sequence\n",
    "        min_gap: this constraint specifies the minimum allowed time difference in days between the latest \n",
    "                 and the earliest element of the pattern instance\n",
    "        max_gap: this constraint specifies the maximum allowed time difference in days between the latest \n",
    "                 and the earliest element of the pattern instance\n",
    "        verbose: if True, additional information on the mining process are printed (i.e., results \n",
    "                 for each level if is 1, candidates generated and pruned at each level if is 2)\n",
    "\n",
    "    Returns:\n",
    "        A list of tuples (s, c), where s is a frequent sequence and c is the count for that sequence\n",
    "    \"\"\"\n",
    "    overall = []\n",
    "    min_sup *= len(dataset)\n",
    "    # make the first pass over the sequence database to yield all the 1-element frequent subsequences\n",
    "    items = sorted(set([item for sequence in dataset\n",
    "                        for event in sequence\n",
    "                        for item in (event[1] if isinstance(event, tuple) else event)]))\n",
    "    single_item_sequences = [[[item]] for item in items]\n",
    "    single_item_counts = [(s, count_support(dataset, s)) for s in single_item_sequences]\n",
    "    single_item_counts = [(i, count) for i, count in single_item_counts if count >= min_sup]\n",
    "    overall.append(single_item_counts)\n",
    "    if verbose > 0:\n",
    "        print('Result, lvl 1: ' + str(overall[0]))\n",
    "    k = 1\n",
    "    while overall[k - 1]:\n",
    "        # 1. candidate generation: merge pairs of frequent subsequences found in the \n",
    "        # (k-1)th pass to generate candidate sequences that contain k items \n",
    "        last_lvl_cands = [x[0] for x in overall[k - 1]]\n",
    "        cands_gen = gen_cands(last_lvl_cands)\n",
    "        # 2. candidate pruning: prune candidate k-sequences that contain infrequent \n",
    "        # (contiguous) (k-1)-subsequences (Apriori principle)\n",
    "        cands_pruned = prune_cands(last_lvl_cands, cands_gen, max_gap)\n",
    "        # 3. support counting: make a new pass over the sequence database to find \n",
    "        # the support for these candidate sequences\n",
    "        cands_counts = [(s, count_support(dataset, s, max_span, min_gap, max_gap)) for s in cands_pruned]\n",
    "        # 4. candidate elimination: eliminate candidate k-sequences whose actual \n",
    "        # support is less than `minsup`\n",
    "        result_lvl = [(i, count) for i, count in cands_counts if count >= min_sup]\n",
    "        if verbose > 0:\n",
    "            print('Result, lvl ' + str(k + 1) + ': ' + str(result_lvl))\n",
    "            if verbose > 1:\n",
    "                print('Candidates generated, lvl ' + str(k + 1) + ': ' + str(cands_gen))\n",
    "                print('Candidates pruned, lvl ' + str(k + 1) + ': ' + str(cands_pruned))\n",
    "        overall.append(result_lvl)\n",
    "        k += 1\n",
    "    # \"flatten\" overall\n",
    "    overall = overall[:-1]\n",
    "    overall = [item for sublist in overall for item in sublist]\n",
    "    overall.sort(key=lambda tup: (tup[1], neg(sequence_length(tup[0]))), reverse=True)\n",
    "    return overall"
   ]
  },
  {
   "cell_type": "code",
   "execution_count": 37,
   "metadata": {
    "collapsed": false,
    "jupyter": {
     "outputs_hidden": false
    }
   },
   "outputs": [
    {
     "name": "stdout",
     "output_type": "stream",
     "text": [
      "Result, lvl 1: [([['a']], 4), ([['b']], 4), ([['c']], 4)]\n",
      "Result, lvl 2: [([['a', 'b']], 2), ([['b', 'c']], 2), ([['a'], ['b']], 4), ([['a'], ['c']], 4), ([['b'], ['c']], 3), ([['c'], ['b']], 3), ([['c'], ['c']], 4)]\n",
      "Candidates generated, lvl 2: [[['a', 'b']], [['a', 'c']], [['b', 'c']], [['a'], ['a']], [['a'], ['b']], [['a'], ['c']], [['b'], ['a']], [['b'], ['b']], [['b'], ['c']], [['c'], ['a']], [['c'], ['b']], [['c'], ['c']]]\n",
      "Candidates pruned, lvl 2: [[['a', 'b']], [['a', 'c']], [['b', 'c']], [['a'], ['a']], [['a'], ['b']], [['a'], ['c']], [['b'], ['a']], [['b'], ['b']], [['b'], ['c']], [['c'], ['a']], [['c'], ['b']], [['c'], ['c']]]\n",
      "Result, lvl 3: [([['a'], ['b'], ['c']], 3), ([['a'], ['b', 'c']], 2), ([['a'], ['c'], ['b']], 3), ([['a'], ['c'], ['c']], 4), ([['a', 'b'], ['c']], 2), ([['b'], ['c'], ['c']], 2), ([['c'], ['b'], ['c']], 2)]\n",
      "Candidates generated, lvl 3: [[['a'], ['b'], ['c']], [['a'], ['b', 'c']], [['a'], ['c'], ['b']], [['a'], ['c'], ['c']], [['a', 'b'], ['c']], [['a', 'b', 'c']], [['b'], ['c'], ['b']], [['b'], ['c'], ['c']], [['b', 'c'], ['b']], [['b', 'c'], ['c']], [['c'], ['b'], ['c']], [['c'], ['b', 'c']], [['c'], ['c'], ['b']], [['c'], ['c'], ['c']]]\n",
      "Candidates pruned, lvl 3: [[['a'], ['b'], ['c']], [['a'], ['b', 'c']], [['a'], ['c'], ['b']], [['a'], ['c'], ['c']], [['a', 'b'], ['c']], [['b'], ['c'], ['c']], [['b', 'c'], ['c']], [['c'], ['b'], ['c']], [['c'], ['b', 'c']], [['c'], ['c'], ['b']], [['c'], ['c'], ['c']]]\n",
      "Result, lvl 4: [([['a'], ['c'], ['b'], ['c']], 2), ([['a', 'b'], ['c'], ['c']], 2)]\n",
      "Candidates generated, lvl 4: [[['a'], ['b'], ['c'], ['c']], [['a'], ['c'], ['b'], ['c']], [['a', 'b'], ['c'], ['c']], [['c'], ['b'], ['c'], ['c']]]\n",
      "Candidates pruned, lvl 4: [[['a'], ['b'], ['c'], ['c']], [['a'], ['c'], ['b'], ['c']], [['a', 'b'], ['c'], ['c']]]\n",
      "Result, lvl 5: []\n",
      "Candidates generated, lvl 5: []\n",
      "Candidates pruned, lvl 5: []\n"
     ]
    },
    {
     "data": {
      "text/plain": [
       "[([['a']], 4),\n",
       " ([['b']], 4),\n",
       " ([['c']], 4),\n",
       " ([['a'], ['b']], 4),\n",
       " ([['a'], ['c']], 4),\n",
       " ([['c'], ['c']], 4),\n",
       " ([['a'], ['c'], ['c']], 4),\n",
       " ([['b'], ['c']], 3),\n",
       " ([['c'], ['b']], 3),\n",
       " ([['a'], ['b'], ['c']], 3),\n",
       " ([['a'], ['c'], ['b']], 3),\n",
       " ([['a', 'b']], 2),\n",
       " ([['b', 'c']], 2),\n",
       " ([['a'], ['b', 'c']], 2),\n",
       " ([['a', 'b'], ['c']], 2),\n",
       " ([['b'], ['c'], ['c']], 2),\n",
       " ([['c'], ['b'], ['c']], 2),\n",
       " ([['a'], ['c'], ['b'], ['c']], 2),\n",
       " ([['a', 'b'], ['c'], ['c']], 2)]"
      ]
     },
     "execution_count": 37,
     "metadata": {},
     "output_type": "execute_result"
    }
   ],
   "source": [
    "gsp(dataset, min_sup=0.5, verbose=2)"
   ]
  },
  {
   "cell_type": "code",
   "execution_count": 38,
   "metadata": {},
   "outputs": [
    {
     "name": "stdout",
     "output_type": "stream",
     "text": [
      "@CONVERTED_FROM_TEXT\n",
      "@ITEM=0=a\n",
      "@ITEM=1=b\n",
      "@ITEM=2=c\n",
      "@ITEM=3=d\n",
      "<0> 0 -1 <1> 0 1 2 -1 <2> 0 2 -1 <3> 2 -1 -2\n",
      "<0> 0 -1 <1> 2 -1 <2> 1 2 -1 -2\n",
      "<0> 0 1 -1 <1> 3 -1 <2> 2 -1 <3> 1 -1 <4> 2 -1 -2\n",
      "<0> 0 -1 <1> 2 -1 <2> 1 -1 <3> 2 -1 -2\n",
      "\n"
     ]
    }
   ],
   "source": [
    "spmf_dataset = spmf_encode_with_timestamp(dataset)\n",
    "print(spmf_dataset)"
   ]
  },
  {
   "cell_type": "code",
   "execution_count": 39,
   "metadata": {},
   "outputs": [
    {
     "name": "stdout",
     "output_type": "stream",
     "text": [
      ">/home/donato/donato.meoli.95@gmail.com/DataMiningUniPi/DM_Group18_TASK4/spmf.jar\n",
      "=============  Algorithm - STATISTICS =============\n",
      " Total time ~ 5 ms\n",
      " Frequent sequences count : 19\n",
      " Max memory (mb):12.550148010253906\n",
      "===================================================\n",
      "\n",
      "Post-processing to show result in terms of string values.\n",
      "Post-processing completed.\n",
      "\n"
     ]
    },
    {
     "data": {
      "text/plain": [
       "[([['a']], 4),\n",
       " ([['b']], 4),\n",
       " ([['c']], 4),\n",
       " ([['a'], ['b']], 4),\n",
       " ([['a'], ['c']], 4),\n",
       " ([['c'], ['c']], 4),\n",
       " ([['a'], ['c'], ['c']], 4),\n",
       " ([['b'], ['c']], 3),\n",
       " ([['c'], ['b']], 3),\n",
       " ([['a'], ['b'], ['c']], 3),\n",
       " ([['a'], ['c'], ['b']], 3),\n",
       " ([['a', 'b']], 2),\n",
       " ([['b', 'c']], 2),\n",
       " ([['a'], ['b', 'c']], 2),\n",
       " ([['a', 'b'], ['c']], 2),\n",
       " ([['b'], ['c'], ['c']], 2),\n",
       " ([['c'], ['b'], ['c']], 2),\n",
       " ([['a', 'b'], ['c'], ['c']], 2),\n",
       " ([['a'], ['c'], ['b'], ['c']], 2)]"
      ]
     },
     "execution_count": 39,
     "metadata": {},
     "output_type": "execute_result"
    }
   ],
   "source": [
    "spmf = Spmf('GSP', input_direct=spmf_dataset, arguments=[0.5])  # min_sup\n",
    "spmf.run()\n",
    "freq_patterns = spmf.to_pandas_dataframe()\n",
    "freq_patterns = [([event.split() for event in sequence], sup) \n",
    "                 for sequence, sup in zip(freq_patterns.pattern, freq_patterns.sup)]\n",
    "freq_patterns.sort(key=lambda tup: (tup[1], neg(sequence_length(tup[0]))), reverse=True)\n",
    "freq_patterns"
   ]
  },
  {
   "cell_type": "markdown",
   "metadata": {},
   "source": [
    "## Loading the new Customer Supermarket dataset"
   ]
  },
  {
   "cell_type": "code",
   "execution_count": 40,
   "metadata": {},
   "outputs": [
    {
     "data": {
      "text/html": [
       "<div>\n",
       "<style scoped>\n",
       "    .dataframe tbody tr th:only-of-type {\n",
       "        vertical-align: middle;\n",
       "    }\n",
       "\n",
       "    .dataframe tbody tr th {\n",
       "        vertical-align: top;\n",
       "    }\n",
       "\n",
       "    .dataframe thead th {\n",
       "        text-align: right;\n",
       "    }\n",
       "</style>\n",
       "<table border=\"1\" class=\"dataframe\">\n",
       "  <thead>\n",
       "    <tr style=\"text-align: right;\">\n",
       "      <th></th>\n",
       "      <th>BasketID</th>\n",
       "      <th>BasketDate</th>\n",
       "      <th>Sale</th>\n",
       "      <th>CustomerID</th>\n",
       "      <th>ProdID</th>\n",
       "      <th>ProdDescr</th>\n",
       "      <th>Qta</th>\n",
       "      <th>TotSale</th>\n",
       "    </tr>\n",
       "  </thead>\n",
       "  <tbody>\n",
       "    <tr>\n",
       "      <th>0</th>\n",
       "      <td>539993</td>\n",
       "      <td>2011-04-01 10:00:00</td>\n",
       "      <td>1.95</td>\n",
       "      <td>13313.0</td>\n",
       "      <td>22386</td>\n",
       "      <td>JUMBO BAG PINK POLKADOT</td>\n",
       "      <td>10</td>\n",
       "      <td>19.50</td>\n",
       "    </tr>\n",
       "    <tr>\n",
       "      <th>1</th>\n",
       "      <td>539993</td>\n",
       "      <td>2011-04-01 10:00:00</td>\n",
       "      <td>0.42</td>\n",
       "      <td>13313.0</td>\n",
       "      <td>21499</td>\n",
       "      <td>BLUE POLKADOT WRAP</td>\n",
       "      <td>25</td>\n",
       "      <td>10.50</td>\n",
       "    </tr>\n",
       "    <tr>\n",
       "      <th>2</th>\n",
       "      <td>539993</td>\n",
       "      <td>2011-04-01 10:00:00</td>\n",
       "      <td>0.42</td>\n",
       "      <td>13313.0</td>\n",
       "      <td>21498</td>\n",
       "      <td>RED RETROSPOT WRAP</td>\n",
       "      <td>25</td>\n",
       "      <td>10.50</td>\n",
       "    </tr>\n",
       "    <tr>\n",
       "      <th>3</th>\n",
       "      <td>539993</td>\n",
       "      <td>2011-04-01 10:00:00</td>\n",
       "      <td>2.10</td>\n",
       "      <td>13313.0</td>\n",
       "      <td>22379</td>\n",
       "      <td>RECYCLING BAG RETROSPOT</td>\n",
       "      <td>5</td>\n",
       "      <td>10.50</td>\n",
       "    </tr>\n",
       "    <tr>\n",
       "      <th>4</th>\n",
       "      <td>539993</td>\n",
       "      <td>2011-04-01 10:00:00</td>\n",
       "      <td>1.25</td>\n",
       "      <td>13313.0</td>\n",
       "      <td>20718</td>\n",
       "      <td>RED RETROSPOT SHOPPER BAG</td>\n",
       "      <td>10</td>\n",
       "      <td>12.50</td>\n",
       "    </tr>\n",
       "    <tr>\n",
       "      <th>...</th>\n",
       "      <td>...</td>\n",
       "      <td>...</td>\n",
       "      <td>...</td>\n",
       "      <td>...</td>\n",
       "      <td>...</td>\n",
       "      <td>...</td>\n",
       "      <td>...</td>\n",
       "      <td>...</td>\n",
       "    </tr>\n",
       "    <tr>\n",
       "      <th>363571</th>\n",
       "      <td>581587</td>\n",
       "      <td>2011-09-12 12:50:00</td>\n",
       "      <td>0.85</td>\n",
       "      <td>12680.0</td>\n",
       "      <td>22613</td>\n",
       "      <td>PACK OF SPACEBOY NAPKINS</td>\n",
       "      <td>12</td>\n",
       "      <td>10.20</td>\n",
       "    </tr>\n",
       "    <tr>\n",
       "      <th>363572</th>\n",
       "      <td>581587</td>\n",
       "      <td>2011-09-12 12:50:00</td>\n",
       "      <td>2.10</td>\n",
       "      <td>12680.0</td>\n",
       "      <td>22899</td>\n",
       "      <td>CHILDRENS APRON DOLLY GIRL</td>\n",
       "      <td>6</td>\n",
       "      <td>12.60</td>\n",
       "    </tr>\n",
       "    <tr>\n",
       "      <th>363573</th>\n",
       "      <td>581587</td>\n",
       "      <td>2011-09-12 12:50:00</td>\n",
       "      <td>4.15</td>\n",
       "      <td>12680.0</td>\n",
       "      <td>23254</td>\n",
       "      <td>CHILDRENS CUTLERY DOLLY GIRL</td>\n",
       "      <td>4</td>\n",
       "      <td>16.60</td>\n",
       "    </tr>\n",
       "    <tr>\n",
       "      <th>363574</th>\n",
       "      <td>581587</td>\n",
       "      <td>2011-09-12 12:50:00</td>\n",
       "      <td>4.15</td>\n",
       "      <td>12680.0</td>\n",
       "      <td>23255</td>\n",
       "      <td>CHILDRENS CUTLERY CIRCUS PARADE</td>\n",
       "      <td>4</td>\n",
       "      <td>16.60</td>\n",
       "    </tr>\n",
       "    <tr>\n",
       "      <th>363575</th>\n",
       "      <td>581587</td>\n",
       "      <td>2011-09-12 12:50:00</td>\n",
       "      <td>4.95</td>\n",
       "      <td>12680.0</td>\n",
       "      <td>22138</td>\n",
       "      <td>BAKING SET PIECE RETROSPOT</td>\n",
       "      <td>3</td>\n",
       "      <td>14.85</td>\n",
       "    </tr>\n",
       "  </tbody>\n",
       "</table>\n",
       "<p>363576 rows × 8 columns</p>\n",
       "</div>"
      ],
      "text/plain": [
       "        BasketID           BasketDate  Sale  CustomerID ProdID  \\\n",
       "0         539993  2011-04-01 10:00:00  1.95     13313.0  22386   \n",
       "1         539993  2011-04-01 10:00:00  0.42     13313.0  21499   \n",
       "2         539993  2011-04-01 10:00:00  0.42     13313.0  21498   \n",
       "3         539993  2011-04-01 10:00:00  2.10     13313.0  22379   \n",
       "4         539993  2011-04-01 10:00:00  1.25     13313.0  20718   \n",
       "...          ...                  ...   ...         ...    ...   \n",
       "363571    581587  2011-09-12 12:50:00  0.85     12680.0  22613   \n",
       "363572    581587  2011-09-12 12:50:00  2.10     12680.0  22899   \n",
       "363573    581587  2011-09-12 12:50:00  4.15     12680.0  23254   \n",
       "363574    581587  2011-09-12 12:50:00  4.15     12680.0  23255   \n",
       "363575    581587  2011-09-12 12:50:00  4.95     12680.0  22138   \n",
       "\n",
       "                              ProdDescr  Qta  TotSale  \n",
       "0               JUMBO BAG PINK POLKADOT   10    19.50  \n",
       "1                    BLUE POLKADOT WRAP   25    10.50  \n",
       "2                    RED RETROSPOT WRAP   25    10.50  \n",
       "3               RECYCLING BAG RETROSPOT    5    10.50  \n",
       "4             RED RETROSPOT SHOPPER BAG   10    12.50  \n",
       "...                                 ...  ...      ...  \n",
       "363571         PACK OF SPACEBOY NAPKINS   12    10.20  \n",
       "363572       CHILDRENS APRON DOLLY GIRL    6    12.60  \n",
       "363573     CHILDRENS CUTLERY DOLLY GIRL    4    16.60  \n",
       "363574  CHILDRENS CUTLERY CIRCUS PARADE    4    16.60  \n",
       "363575       BAKING SET PIECE RETROSPOT    3    14.85  \n",
       "\n",
       "[363576 rows x 8 columns]"
      ]
     },
     "execution_count": 40,
     "metadata": {},
     "output_type": "execute_result"
    }
   ],
   "source": [
    "df = pd.read_csv('../dataset/new_customer_supermarket.csv', sep='\\t', index_col=0)\n",
    "df"
   ]
  },
  {
   "cell_type": "code",
   "execution_count": 41,
   "metadata": {},
   "outputs": [
    {
     "data": {
      "text/plain": [
       "BasketID        int64\n",
       "BasketDate     object\n",
       "Sale          float64\n",
       "CustomerID    float64\n",
       "ProdID         object\n",
       "ProdDescr      object\n",
       "Qta             int64\n",
       "TotSale       float64\n",
       "dtype: object"
      ]
     },
     "execution_count": 41,
     "metadata": {},
     "output_type": "execute_result"
    }
   ],
   "source": [
    "df.dtypes"
   ]
  },
  {
   "cell_type": "code",
   "execution_count": 42,
   "metadata": {},
   "outputs": [],
   "source": [
    "df = df.astype({'BasketDate': 'datetime64',\n",
    "                'BasketID': 'object',\n",
    "                'CustomerID': 'object'})"
   ]
  },
  {
   "cell_type": "markdown",
   "metadata": {},
   "source": [
    "## Data Modeling"
   ]
  },
  {
   "cell_type": "raw",
   "metadata": {},
   "source": [
    "dataset = [\n",
    "    # customer: sequence of baskets\n",
    "    [(1, ['item_x', 'item_y', 'item_z', etc.]),  # basket: (day of the year, [list of products])\n",
    "     (2, ['item_p', 'item_q', 'item_r', etc.]), \n",
    "     (3, [etc.])], \n",
    "    etc.\n",
    "]"
   ]
  },
  {
   "cell_type": "code",
   "execution_count": 43,
   "metadata": {},
   "outputs": [
    {
     "data": {
      "text/html": [
       "<div>\n",
       "<style scoped>\n",
       "    .dataframe tbody tr th:only-of-type {\n",
       "        vertical-align: middle;\n",
       "    }\n",
       "\n",
       "    .dataframe tbody tr th {\n",
       "        vertical-align: top;\n",
       "    }\n",
       "\n",
       "    .dataframe thead th {\n",
       "        text-align: right;\n",
       "    }\n",
       "</style>\n",
       "<table border=\"1\" class=\"dataframe\">\n",
       "  <thead>\n",
       "    <tr style=\"text-align: right;\">\n",
       "      <th></th>\n",
       "      <th>BasketID</th>\n",
       "      <th>BasketDate</th>\n",
       "      <th>Sale</th>\n",
       "      <th>CustomerID</th>\n",
       "      <th>ProdID</th>\n",
       "      <th>ProdDescr</th>\n",
       "      <th>Qta</th>\n",
       "      <th>TotSale</th>\n",
       "      <th>BasketDayOfYear</th>\n",
       "    </tr>\n",
       "  </thead>\n",
       "  <tbody>\n",
       "    <tr>\n",
       "      <th>20767</th>\n",
       "      <td>542776</td>\n",
       "      <td>2011-01-02 08:23:00</td>\n",
       "      <td>0.30</td>\n",
       "      <td>15240.0</td>\n",
       "      <td>17021</td>\n",
       "      <td>NAMASTE SWAGAT INCENSE</td>\n",
       "      <td>36</td>\n",
       "      <td>10.80</td>\n",
       "      <td>2</td>\n",
       "    </tr>\n",
       "    <tr>\n",
       "      <th>20769</th>\n",
       "      <td>542776</td>\n",
       "      <td>2011-01-02 08:23:00</td>\n",
       "      <td>4.95</td>\n",
       "      <td>15240.0</td>\n",
       "      <td>21485</td>\n",
       "      <td>RETROSPOT HEART HOT WATER BOTTLE</td>\n",
       "      <td>3</td>\n",
       "      <td>14.85</td>\n",
       "      <td>2</td>\n",
       "    </tr>\n",
       "    <tr>\n",
       "      <th>20768</th>\n",
       "      <td>542776</td>\n",
       "      <td>2011-01-02 08:23:00</td>\n",
       "      <td>3.75</td>\n",
       "      <td>15240.0</td>\n",
       "      <td>21218</td>\n",
       "      <td>RED SPOTTY BISCUIT TIN</td>\n",
       "      <td>5</td>\n",
       "      <td>18.75</td>\n",
       "      <td>2</td>\n",
       "    </tr>\n",
       "    <tr>\n",
       "      <th>20766</th>\n",
       "      <td>542776</td>\n",
       "      <td>2011-01-02 08:23:00</td>\n",
       "      <td>2.95</td>\n",
       "      <td>15240.0</td>\n",
       "      <td>22083</td>\n",
       "      <td>PAPER CHAIN KIT RETROSPOT</td>\n",
       "      <td>12</td>\n",
       "      <td>35.40</td>\n",
       "      <td>2</td>\n",
       "    </tr>\n",
       "    <tr>\n",
       "      <th>20765</th>\n",
       "      <td>542776</td>\n",
       "      <td>2011-01-02 08:23:00</td>\n",
       "      <td>4.65</td>\n",
       "      <td>15240.0</td>\n",
       "      <td>22835</td>\n",
       "      <td>HOT WATER BOTTLE I AM SO POORLY</td>\n",
       "      <td>4</td>\n",
       "      <td>18.60</td>\n",
       "      <td>2</td>\n",
       "    </tr>\n",
       "    <tr>\n",
       "      <th>...</th>\n",
       "      <td>...</td>\n",
       "      <td>...</td>\n",
       "      <td>...</td>\n",
       "      <td>...</td>\n",
       "      <td>...</td>\n",
       "      <td>...</td>\n",
       "      <td>...</td>\n",
       "      <td>...</td>\n",
       "      <td>...</td>\n",
       "    </tr>\n",
       "    <tr>\n",
       "      <th>254281</th>\n",
       "      <td>570876</td>\n",
       "      <td>2011-12-10 17:19:00</td>\n",
       "      <td>3.75</td>\n",
       "      <td>16085.0</td>\n",
       "      <td>23394</td>\n",
       "      <td>POSTE FRANCE CUSHION COVER</td>\n",
       "      <td>1</td>\n",
       "      <td>3.75</td>\n",
       "      <td>344</td>\n",
       "    </tr>\n",
       "    <tr>\n",
       "      <th>254280</th>\n",
       "      <td>570876</td>\n",
       "      <td>2011-12-10 17:19:00</td>\n",
       "      <td>1.55</td>\n",
       "      <td>16085.0</td>\n",
       "      <td>46000M</td>\n",
       "      <td>POLYESTER FILLER PAD</td>\n",
       "      <td>1</td>\n",
       "      <td>1.55</td>\n",
       "      <td>344</td>\n",
       "    </tr>\n",
       "    <tr>\n",
       "      <th>254279</th>\n",
       "      <td>570876</td>\n",
       "      <td>2011-12-10 17:19:00</td>\n",
       "      <td>1.45</td>\n",
       "      <td>16085.0</td>\n",
       "      <td>46000S</td>\n",
       "      <td>POLYESTER FILLER PAD</td>\n",
       "      <td>1</td>\n",
       "      <td>1.45</td>\n",
       "      <td>344</td>\n",
       "    </tr>\n",
       "    <tr>\n",
       "      <th>254291</th>\n",
       "      <td>570876</td>\n",
       "      <td>2011-12-10 17:19:00</td>\n",
       "      <td>1.65</td>\n",
       "      <td>16085.0</td>\n",
       "      <td>22469</td>\n",
       "      <td>HEART OF WICKER SMALL</td>\n",
       "      <td>3</td>\n",
       "      <td>4.95</td>\n",
       "      <td>344</td>\n",
       "    </tr>\n",
       "    <tr>\n",
       "      <th>254282</th>\n",
       "      <td>570876</td>\n",
       "      <td>2011-12-10 17:19:00</td>\n",
       "      <td>3.75</td>\n",
       "      <td>16085.0</td>\n",
       "      <td>23396</td>\n",
       "      <td>LE JARDIN BOTANIQUE CUSHION COVER</td>\n",
       "      <td>1</td>\n",
       "      <td>3.75</td>\n",
       "      <td>344</td>\n",
       "    </tr>\n",
       "  </tbody>\n",
       "</table>\n",
       "<p>363576 rows × 9 columns</p>\n",
       "</div>"
      ],
      "text/plain": [
       "       BasketID          BasketDate  Sale CustomerID  ProdID  \\\n",
       "20767    542776 2011-01-02 08:23:00  0.30    15240.0   17021   \n",
       "20769    542776 2011-01-02 08:23:00  4.95    15240.0   21485   \n",
       "20768    542776 2011-01-02 08:23:00  3.75    15240.0   21218   \n",
       "20766    542776 2011-01-02 08:23:00  2.95    15240.0   22083   \n",
       "20765    542776 2011-01-02 08:23:00  4.65    15240.0   22835   \n",
       "...         ...                 ...   ...        ...     ...   \n",
       "254281   570876 2011-12-10 17:19:00  3.75    16085.0   23394   \n",
       "254280   570876 2011-12-10 17:19:00  1.55    16085.0  46000M   \n",
       "254279   570876 2011-12-10 17:19:00  1.45    16085.0  46000S   \n",
       "254291   570876 2011-12-10 17:19:00  1.65    16085.0   22469   \n",
       "254282   570876 2011-12-10 17:19:00  3.75    16085.0   23396   \n",
       "\n",
       "                                ProdDescr  Qta  TotSale  BasketDayOfYear  \n",
       "20767              NAMASTE SWAGAT INCENSE   36    10.80                2  \n",
       "20769    RETROSPOT HEART HOT WATER BOTTLE    3    14.85                2  \n",
       "20768              RED SPOTTY BISCUIT TIN    5    18.75                2  \n",
       "20766           PAPER CHAIN KIT RETROSPOT   12    35.40                2  \n",
       "20765     HOT WATER BOTTLE I AM SO POORLY    4    18.60                2  \n",
       "...                                   ...  ...      ...              ...  \n",
       "254281         POSTE FRANCE CUSHION COVER    1     3.75              344  \n",
       "254280               POLYESTER FILLER PAD    1     1.55              344  \n",
       "254279               POLYESTER FILLER PAD    1     1.45              344  \n",
       "254291              HEART OF WICKER SMALL    3     4.95              344  \n",
       "254282  LE JARDIN BOTANIQUE CUSHION COVER    1     3.75              344  \n",
       "\n",
       "[363576 rows x 9 columns]"
      ]
     },
     "execution_count": 43,
     "metadata": {},
     "output_type": "execute_result"
    }
   ],
   "source": [
    "df.sort_values('BasketDate', inplace=True)\n",
    "df['BasketDayOfYear'] = df['BasketDate'].dt.dayofyear\n",
    "df"
   ]
  },
  {
   "cell_type": "code",
   "execution_count": 68,
   "metadata": {},
   "outputs": [
    {
     "data": {
      "text/plain": [
       "[[(26,\n",
       "   array(['PACK OF SPACEBOY CAKE CASES', 'TEA TIME OVEN GLOVE',\n",
       "          'RED RETROSPOT OVEN GLOVE', 'RED RETROSPOT OVEN GLOVE DOUBLE',\n",
       "          'SET RED RETROSPOT TEA TOWELS', 'REGENCY CAKESTAND TIER',\n",
       "          'TOOTHPASTE TUBE PEN', 'MINI LADLE LOVE HEART RED',\n",
       "          'CHOCOLATE CALCULATOR', 'SET OF TINS VINTAGE BATHROOM',\n",
       "          'RED TOADSTOOL LED NIGHT LIGHT', 'DOG PICTURE PLAYING CARDS',\n",
       "          'BOX OF ASSORTED COLOUR TEASPOONS', 'TEATIME FAIRY CAKE CASES',\n",
       "          'PACK OF MUSHROOM CAKE CASES', 'SMALL HEART MEASURING SPOONS',\n",
       "          'SWEETHEART FAIRY CAKE CASES',\n",
       "          'BLUE NEW BAROQUE CANDLESTICK CANDLE',\n",
       "          'BLACK CANDELABRA TLIGHT HOLDER', 'WOODLAND CHARLOTTE BAG',\n",
       "          'AIRLINE BAG VINTAGE JET SET BROWN',\n",
       "          'AIRLINE BAG VINTAGE JET SET WHITE',\n",
       "          'PINK NEW BAROQUECANDLESTICK CANDLE',\n",
       "          'ALARM CLOCK BAKELIKE CHOCOLATE', 'ALARM CLOCK BAKELIKE GREEN',\n",
       "          'ALARM CLOCK BAKELIKE RED', 'ALARM CLOCK BAKELIKE PINK',\n",
       "          'ALARM CLOCK BAKELIKE ORANGE', 'SANDWICH BATH SPONGE'],\n",
       "         dtype=object)),\n",
       "  (39,\n",
       "   array(['SWEETHEART FAIRY CAKE CASES', 'RED REFECTORY CLOCK',\n",
       "          'VINTAGE HEADS AND TAILS CARD GAME', 'DOG PICTURE PLAYING CARDS',\n",
       "          'REGENCY MILK JUG PINK', 'REGENCY CAKESTAND TIER',\n",
       "          'PACK OF DINOSAUR CAKE CASES', 'TEATIME FAIRY CAKE CASES',\n",
       "          'TEA TIME OVEN GLOVE', 'REVOLVER WOODEN RULER',\n",
       "          'TRIPLE HOOK ANTIQUE IVORY ROSE',\n",
       "          'SET HEART SHAPE PETIT FOUR CASES',\n",
       "          'AIRLINE BAG VINTAGE JET SET BROWN',\n",
       "          'SINGLE ANTIQUE ROSE HOOK IVORY', 'SET OF VINTAGE LEAF CAKE CASES',\n",
       "          'AIRLINE BAG VINTAGE JET SET WHITE',\n",
       "          'AIRLINE BAG VINTAGE JET SET RED',\n",
       "          'AIRLINE BAG VINTAGE WORLD CHAMPION',\n",
       "          'WOODLAND DESIGN COTTON TOTE BAG', 'WOODLAND CHARLOTTE BAG',\n",
       "          'ALARM CLOCK BAKELIKE RED', 'AIRLINE BAG VINTAGE TOKYO'],\n",
       "         dtype=object)),\n",
       "  (185,\n",
       "   array(['SET OF TINS VINTAGE BATHROOM', 'GIFT BAG PSYCHEDELIC APPLES',\n",
       "          'SMALL FOLDING SCISSORPOINTED EDGE', 'SHEET OF CAT STICKERS',\n",
       "          'SHEET OF DOG STICKERS', 'RED TOADSTOOL LED NIGHT LIGHT',\n",
       "          'ROSES REGENCY TEACUP AND SAUCER', 'REGENCY CAKESTAND TIER',\n",
       "          'RED RETROSPOT OVEN GLOVE DOUBLE', 'PACK OF DINOSAUR CAKE CASES',\n",
       "          'LARGE HEART MEASURING SPOONS',\n",
       "          'RED DRAWER KNOB ACRYLIC EDWARDIAN', 'WATERING CAN PINK BUNNY',\n",
       "          'TREASURE ISLAND BOOK BOX', 'HOLIDAY FUN LUDO',\n",
       "          'VINTAGE HEADS AND TAILS CARD GAME', 'RED RETROSPOT PURSE',\n",
       "          'AIRLINE BAG VINTAGE JET SET BROWN', 'AIRLINE BAG VINTAGE TOKYO',\n",
       "          'AIRLINE BAG VINTAGE JET SET RED',\n",
       "          'AIRLINE BAG VINTAGE JET SET WHITE',\n",
       "          'SMALL HEART MEASURING SPOONS', 'ICE CREAM SUNDAE LIP GLOSS',\n",
       "          'MINI PAINT SET VINTAGE'], dtype=object)),\n",
       "  (193,\n",
       "   array(['PINK GOOSE FEATHER TREE', 'MINI PLAYING CARDS DOLLY GIRL',\n",
       "          'MINI PLAYING CARDS SPACEBOY',\n",
       "          'CHRISTMAS TABLE SILVER CANDLE SPIKE', 'WOODLAND CHARLOTTE BAG',\n",
       "          'CLASSIC CHROME BICYCLE BELL', 'RED TOADSTOOL LED NIGHT LIGHT',\n",
       "          'PINK NEW BAROQUECANDLESTICK CANDLE', 'BOOM BOX SPEAKER BOYS',\n",
       "          'BICYCLE PUNCTURE REPAIR KIT', 'RABBIT NIGHT LIGHT'], dtype=object)),\n",
       "  (249,\n",
       "   array(['ALARM CLOCK BAKELIKE RED', 'FEATHER PENCOAL BLACK',\n",
       "          'DOG PICTURE PLAYING CARDS', 'SMALL HEART MEASURING SPOONS',\n",
       "          'TRIPLE HOOK ANTIQUE IVORY ROSE', 'ALARM CLOCK BAKELIKE CHOCOLATE',\n",
       "          'NAMASTE SWAGAT INCENSE', 'VICTORIAN SEWING KIT',\n",
       "          'AIRLINE BAG VINTAGE JET SET BROWN', 'REGENCY TEA PLATE ROSES',\n",
       "          'REGENCY MILK JUG PINK', 'REGENCY SUGAR BOWL GREEN',\n",
       "          'REGENCY TEAPOT ROSES', 'REGENCY TEA PLATE PINK',\n",
       "          'REGENCY TEA PLATE GREEN', 'REGENCY TEA STRAINER',\n",
       "          'RABBIT NIGHT LIGHT', 'AIRLINE BAG VINTAGE TOKYO'], dtype=object)),\n",
       "  (304,\n",
       "   array(['ALARM CLOCK BAKELIKE GREEN', 'ALARM CLOCK BAKELIKE RED',\n",
       "          'PACK OF MUSHROOM CAKE CASES', 'PACK OF SPACEBOY CAKE CASES',\n",
       "          'SET OF VINTAGE LEAF CAKE CASES', 'LARGE HEART MEASURING SPOONS',\n",
       "          'SWEETHEART FAIRY CAKE CASES', 'SMALL HEART MEASURING SPOONS',\n",
       "          'WOODLAND CHARLOTTE BAG', 'FOOD CONTAINER SET LOVE HEART',\n",
       "          'ALARM CLOCK BAKELIKE PINK', 'TEATIME FAIRY CAKE CASES',\n",
       "          'ALARM CLOCK BAKELIKE CHOCOLATE', 'REGENCY TEA STRAINER',\n",
       "          'PANTRY HOOK TEA STRAINER', 'DOG PICTURE PLAYING CARDS',\n",
       "          'GREEN REGENCY TEACUP AND SAUCER',\n",
       "          'PINK REGENCY TEACUP AND SAUCER', 'TEA TIME OVEN GLOVE',\n",
       "          'TEA TIME KITCHEN APRON', 'TEA TIME DES TEA COSY',\n",
       "          'REGENCY TEAPOT ROSES', 'REGENCY CAKESTAND TIER',\n",
       "          'CHRISTMAS METAL TAGS ASSORTED',\n",
       "          'BIRDCAGE DECORATION TEALIGHT HOLDER',\n",
       "          'AIRLINE BAG VINTAGE JET SET RED', 'AIRLINE BAG VINTAGE TOKYO',\n",
       "          'AIRLINE BAG VINTAGE JET SET BROWN',\n",
       "          'AIRLINE BAG VINTAGE WORLD CHAMPION', 'MADRAS NOTEBOOK MEDIUM',\n",
       "          'PINK GOOSE FEATHER TREE', 'MINI LIGHTS WOODLAND MUSHROOMS',\n",
       "          'RED TOADSTOOL LED NIGHT LIGHT', 'ROSES REGENCY TEACUP AND SAUCER',\n",
       "          'RABBIT NIGHT LIGHT', 'MINI PLAYING CARDS DOLLY GIRL',\n",
       "          'WOODEN SCHOOL COLOURING SET', 'MINI PLAYING CARDS SPACEBOY',\n",
       "          'MINI PAINT SET VINTAGE', 'TRADITIONAL KNITTING NANCY',\n",
       "          'TRIPLE HOOK ANTIQUE IVORY ROSE', 'PANTRY HOOK SPATULA',\n",
       "          'PANTRY HOOK BALLOON WHISK', 'REVOLVER WOODEN RULER',\n",
       "          'PLAYING CARDS KEEP CALM CARRY ON', 'TREASURE ISLAND BOOK BOX',\n",
       "          'VINTAGE HEADS AND TAILS CARD GAME'], dtype=object))]]"
      ]
     },
     "execution_count": 68,
     "metadata": {},
     "output_type": "execute_result"
    }
   ],
   "source": [
    "baskets_sequences = df.groupby('CustomerID').apply(lambda customer: customer.groupby('BasketDayOfYear')['ProdDescr'].unique().to_dict())\n",
    "baskets_sequences = [[(k, v) for k, v in baskets.items()] for baskets in baskets_sequences]\n",
    "baskets_sequences = list(filter(lambda sequence: len(sequence) > 1, baskets_sequences))  # filtering out some customers\n",
    "baskets_sequences[:1]"
   ]
  },
  {
   "cell_type": "markdown",
   "metadata": {},
   "source": [
    "Custom implementation without time constraints:"
   ]
  },
  {
   "cell_type": "code",
   "execution_count": 69,
   "metadata": {},
   "outputs": [
    {
     "name": "stdout",
     "output_type": "stream",
     "text": [
      "CPU times: user 47min 59s, sys: 132 ms, total: 47min 59s\n",
      "Wall time: 47min 59s\n"
     ]
    },
    {
     "data": {
      "text/plain": [
       "[([['WHITE HANGING HEART TLIGHT HOLDER'],\n",
       "   ['WHITE HANGING HEART TLIGHT HOLDER']],\n",
       "  366),\n",
       " ([['JUMBO BAG RED RETROSPOT'], ['JUMBO BAG RED RETROSPOT']], 301),\n",
       " ([['REGENCY CAKESTAND TIER'], ['REGENCY CAKESTAND TIER']], 295),\n",
       " ([['ASSORTED COLOUR BIRD ORNAMENT'], ['ASSORTED COLOUR BIRD ORNAMENT']], 274),\n",
       " ([['PARTY BUNTING'], ['PARTY BUNTING']], 272),\n",
       " ([['LUNCH BAG RED RETROSPOT'], ['LUNCH BAG RED RETROSPOT']], 266),\n",
       " ([['GREEN REGENCY TEACUP AND SAUCER', 'ROSES REGENCY TEACUP AND SAUCER']],\n",
       "  254),\n",
       " ([['PAPER CHAIN KIT CHRISTMAS', 'PAPER CHAIN KIT VINTAGE CHRISTMAS']], 247),\n",
       " ([['GREEN REGENCY TEACUP AND SAUCER', 'PINK REGENCY TEACUP AND SAUCER']],\n",
       "  239),\n",
       " ([['LUNCH BAG PINK POLKADOT', 'LUNCH BAG RED RETROSPOT']], 231),\n",
       " ([['LUNCH BAG BLACK SKULL', 'LUNCH BAG RED RETROSPOT']], 228),\n",
       " ([['LUNCH BAG CARS BLUE', 'LUNCH BAG RED RETROSPOT']], 225),\n",
       " ([['PARTY BUNTING', 'SPOTTY BUNTING']], 223),\n",
       " ([['GARDENERS KNEELING PAD CUP OF TEA', 'GARDENERS KNEELING PAD KEEP CALM']],\n",
       "  222),\n",
       " ([['HEART OF WICKER LARGE', 'HEART OF WICKER SMALL']], 222),\n",
       " ([['LUNCH BAG RED RETROSPOT', 'LUNCH BAG SUKI DESIGN']], 222),\n",
       " ([['JUMBO BAG PINK POLKADOT', 'JUMBO BAG RED RETROSPOT']], 221),\n",
       " ([['PINK REGENCY TEACUP AND SAUCER', 'ROSES REGENCY TEACUP AND SAUCER']],\n",
       "  220),\n",
       " ([['LUNCH BAG BLACK SKULL'], ['LUNCH BAG BLACK SKULL']], 220),\n",
       " ([['LUNCH BAG CARS BLUE', 'LUNCH BAG PINK POLKADOT']], 218),\n",
       " ([['LUNCH BAG SUKI DESIGN'], ['LUNCH BAG SUKI DESIGN']], 217),\n",
       " ([['LUNCH BAG CARS BLUE', 'LUNCH BAG SUKI DESIGN']], 215),\n",
       " ([['LUNCH BAG RED RETROSPOT', 'LUNCH BAG SPACEBOY DESIGN']], 215),\n",
       " ([['RED HANGING HEART TLIGHT HOLDER', 'WHITE HANGING HEART TLIGHT HOLDER']],\n",
       "  215),\n",
       " ([['REGENCY CAKESTAND TIER', 'ROSES REGENCY TEACUP AND SAUCER']], 215),\n",
       " ([['SET OF CAKE TINS PANTRY DESIGN'], ['SET OF CAKE TINS PANTRY DESIGN']],\n",
       "  215),\n",
       " ([['ALARM CLOCK BAKELIKE GREEN', 'ALARM CLOCK BAKELIKE RED']], 214),\n",
       " ([['LUNCH BAG BLACK SKULL', 'LUNCH BAG PINK POLKADOT']], 212),\n",
       " ([['JUMBO BAG RED RETROSPOT', 'LUNCH BAG RED RETROSPOT']], 205),\n",
       " ([['LUNCH BAG SPACEBOY DESIGN', 'LUNCH BAG SUKI DESIGN']], 205),\n",
       " ([['GREEN REGENCY TEACUP AND SAUCER',\n",
       "    'PINK REGENCY TEACUP AND SAUCER',\n",
       "    'ROSES REGENCY TEACUP AND SAUCER']],\n",
       "  205),\n",
       " ([['LUNCH BAG BLACK SKULL', 'LUNCH BAG SUKI DESIGN']], 204),\n",
       " ([['WOODEN FRAME ANTIQUE WHITE', 'WOODEN PICTURE FRAME WHITE FINISH']], 204),\n",
       " ([['LUNCH BAG BLACK SKULL'], ['LUNCH BAG RED RETROSPOT']], 204),\n",
       " ([['SPOTTY BUNTING'], ['SPOTTY BUNTING']], 204),\n",
       " ([['LUNCH BAG RED RETROSPOT'], ['LUNCH BAG BLACK SKULL']], 201),\n",
       " ([['LUNCH BAG SPACEBOY DESIGN', 'LUNCH BAG WOODLAND']], 200),\n",
       " ([['LUNCH BAG RED RETROSPOT'], ['LUNCH BAG SPACEBOY DESIGN']], 199),\n",
       " ([['LUNCH BAG RED RETROSPOT', 'LUNCH BAG WOODLAND']], 196),\n",
       " ([['LUNCH BAG CARS BLUE'], ['LUNCH BAG CARS BLUE']], 196),\n",
       " ([['PACK OF PINK PAISLEY CAKE CASES', 'PACK OF RETROSPOT CAKE CASES']], 195),\n",
       " ([['WOODEN HEART CHRISTMAS SCANDINAVIAN',\n",
       "    'WOODEN STAR CHRISTMAS SCANDINAVIAN']],\n",
       "  195),\n",
       " ([['GREEN REGENCY TEACUP AND SAUCER', 'REGENCY CAKESTAND TIER']], 194),\n",
       " ([['LUNCH BAG BLACK SKULL', 'LUNCH BAG SPACEBOY DESIGN']], 194),\n",
       " ([['LUNCH BAG CARS BLUE', 'LUNCH BAG SPACEBOY DESIGN']], 194),\n",
       " ([['LUNCH BAG RED RETROSPOT'], ['LUNCH BAG SUKI DESIGN']], 194),\n",
       " ([['WHITE HANGING HEART TLIGHT HOLDER'],\n",
       "   ['WHITE HANGING HEART TLIGHT HOLDER'],\n",
       "   ['WHITE HANGING HEART TLIGHT HOLDER']],\n",
       "  193),\n",
       " ([['LUNCH BAG RED RETROSPOT'], ['LUNCH BAG PINK POLKADOT']], 192),\n",
       " ([['LUNCH BAG RED RETROSPOT'], ['LUNCH BAG CARS BLUE']], 191),\n",
       " ([['LUNCH BAG SUKI DESIGN'], ['LUNCH BAG RED RETROSPOT']], 190),\n",
       " ([['PACK OF RETROSPOT CAKE CASES', 'TEATIME FAIRY CAKE CASES']], 189),\n",
       " ([['LUNCH BAG PINK POLKADOT'], ['LUNCH BAG PINK POLKADOT']], 189),\n",
       " ([['DOLLY GIRL LUNCH BOX', 'SPACEBOY LUNCH BOX']], 188),\n",
       " ([['LUNCH BAG BLACK SKULL', 'LUNCH BAG CARS BLUE']], 188),\n",
       " ([['SET OF CAKE TINS PANTRY DESIGN', 'SET OF SPICE TINS PANTRY DESIGN']],\n",
       "  188),\n",
       " ([['LUNCH BAG CARS BLUE'], ['LUNCH BAG RED RETROSPOT']], 188),\n",
       " ([['LUNCH BAG RED RETROSPOT'], ['JUMBO BAG RED RETROSPOT']], 188),\n",
       " ([['LUNCH BAG SPACEBOY DESIGN'], ['LUNCH BAG RED RETROSPOT']], 188),\n",
       " ([['LUNCH BAG SPACEBOY DESIGN'], ['LUNCH BAG SPACEBOY DESIGN']], 188),\n",
       " ([['REGENCY CAKESTAND TIER'], ['SET OF REGENCY CAKE TINS']], 188),\n",
       " ([['BAKING SET PIECE RETROSPOT', 'BAKING SET SPACEBOY DESIGN']], 187),\n",
       " ([['LUNCH BAG PINK POLKADOT', 'LUNCH BAG SUKI DESIGN']], 187),\n",
       " ([['JUMBO BAG RED RETROSPOT'], ['LUNCH BAG RED RETROSPOT']], 187),\n",
       " ([['LUNCH BAG ALPHABET DESIGN', 'LUNCH BAG APPLE DESIGN']], 186),\n",
       " ([['LUNCH BAG APPLE DESIGN', 'LUNCH BAG RED RETROSPOT']], 186),\n",
       " ([['LUNCH BAG APPLE DESIGN'], ['LUNCH BAG APPLE DESIGN']], 186),\n",
       " ([['LUNCH BAG PINK POLKADOT'], ['LUNCH BAG RED RETROSPOT']], 186),\n",
       " ([['ALARM CLOCK BAKELIKE PINK', 'ALARM CLOCK BAKELIKE RED']], 185)]"
      ]
     },
     "execution_count": 69,
     "metadata": {},
     "output_type": "execute_result"
    }
   ],
   "source": [
    "%time custom_freq_patterns = gsp(baskets_sequences, min_sup=0.07, verbose=False)\n",
    "list(filter(lambda freq_pattern: sequence_length(freq_pattern[0]) >= 2, custom_freq_patterns))"
   ]
  },
  {
   "cell_type": "markdown",
   "metadata": {},
   "source": [
    "SPMF implementation without time constraints:"
   ]
  },
  {
   "cell_type": "code",
   "execution_count": 71,
   "metadata": {},
   "outputs": [
    {
     "name": "stdout",
     "output_type": "stream",
     "text": [
      ">/home/donato/donato.meoli.95@gmail.com/DataMiningUniPi/DM_Group18_TASK4/spmf.jar\n",
      "=============  Algorithm - STATISTICS =============\n",
      " Total time ~ 14606 ms\n",
      " Frequent sequences count : 527\n",
      "===================================================\n",
      "\n",
      "Post-processing to show result in terms of string values.\n",
      "Post-processing completed.\n",
      "\n"
     ]
    },
    {
     "data": {
      "text/plain": [
       "[([['GREEN REGENCY TEACUP AND SAUCER', 'PINK REGENCY TEACUP AND SAUCER']],\n",
       "  167),\n",
       " ([['LUNCH BAG PINK POLKADOT', 'LUNCH BAG RED RETROSPOT']], 160),\n",
       " ([['GREEN REGENCY TEACUP AND SAUCER', 'ROSES REGENCY TEACUP AND SAUCER']],\n",
       "  159),\n",
       " ([['JUMBO BAG PINK POLKADOT', 'JUMBO BAG RED RETROSPOT']], 158),\n",
       " ([['LUNCH BAG RED RETROSPOT', 'LUNCH BAG BLACK SKULL']], 153),\n",
       " ([['PAPER CHAIN KIT CHRISTMAS', 'PAPER CHAIN KIT VINTAGE CHRISTMAS']], 151),\n",
       " ([['ROSES REGENCY TEACUP AND SAUCER', 'GREEN REGENCY TEACUP AND SAUCER']],\n",
       "  150),\n",
       " ([['LUNCH BAG CARS BLUE', 'LUNCH BAG RED RETROSPOT']], 150),\n",
       " ([['LUNCH BAG RED RETROSPOT', 'LUNCH BAG PINK POLKADOT']], 150),\n",
       " ([['LUNCH BAG CARS BLUE', 'LUNCH BAG PINK POLKADOT']], 149),\n",
       " ([['ALARM CLOCK BAKELIKE RED', 'ALARM CLOCK BAKELIKE GREEN']], 147),\n",
       " ([['LUNCH BAG SUKI DESIGN', 'LUNCH BAG SPACEBOY DESIGN']], 147),\n",
       " ([['GARDENERS KNEELING PAD KEEP CALM', 'GARDENERS KNEELING PAD CUP OF TEA']],\n",
       "  146),\n",
       " ([['ALARM CLOCK BAKELIKE GREEN', 'ALARM CLOCK BAKELIKE RED']], 145),\n",
       " ([['LUNCH BAG SUKI DESIGN', 'LUNCH BAG RED RETROSPOT']], 145),\n",
       " ([['LUNCH BAG BLACK SKULL', 'LUNCH BAG RED RETROSPOT']], 144),\n",
       " ([['LUNCH BAG RED RETROSPOT', 'LUNCH BAG SUKI DESIGN']], 144),\n",
       " ([['ROSES REGENCY TEACUP AND SAUCER', 'PINK REGENCY TEACUP AND SAUCER']],\n",
       "  142),\n",
       " ([['PARTY BUNTING', 'SPOTTY BUNTING']], 141),\n",
       " ([['LUNCH BAG RED RETROSPOT', 'LUNCH BAG CARS BLUE']], 141),\n",
       " ([['LUNCH BAG PINK POLKADOT', 'LUNCH BAG BLACK SKULL']], 141),\n",
       " ([['LUNCH BAG BLACK SKULL', 'LUNCH BAG SUKI DESIGN']], 140),\n",
       " ([['LUNCH BAG BLACK SKULL', 'LUNCH BAG PINK POLKADOT']], 140),\n",
       " ([['JUMBO BAG RED RETROSPOT', 'JUMBO BAG PINK POLKADOT']], 139),\n",
       " ([['PAPER CHAIN KIT VINTAGE CHRISTMAS', 'PAPER CHAIN KIT CHRISTMAS']], 139),\n",
       " ([['LUNCH BAG CARS BLUE', 'LUNCH BAG SUKI DESIGN']], 139),\n",
       " ([['JUMBO BAG RED RETROSPOT', 'LUNCH BAG RED RETROSPOT']], 138),\n",
       " ([['RED HANGING HEART TLIGHT HOLDER', 'WHITE HANGING HEART TLIGHT HOLDER']],\n",
       "  137),\n",
       " ([['LUNCH BAG SUKI DESIGN', 'LUNCH BAG CARS BLUE']], 137),\n",
       " ([['LUNCH BAG SPACEBOY DESIGN', 'LUNCH BAG RED RETROSPOT']], 136),\n",
       " ([['LUNCH BAG RED RETROSPOT', 'LUNCH BAG SPACEBOY DESIGN']], 135),\n",
       " ([['LUNCH BAG SUKI DESIGN', 'LUNCH BAG BLACK SKULL']], 135),\n",
       " ([['WOODEN PICTURE FRAME WHITE FINISH', 'WOODEN FRAME ANTIQUE WHITE']], 134),\n",
       " ([['LUNCH BAG WOODLAND', 'LUNCH BAG SPACEBOY DESIGN']], 133),\n",
       " ([['WOODEN FRAME ANTIQUE WHITE', 'WOODEN PICTURE FRAME WHITE FINISH']], 133),\n",
       " ([['GARDENERS KNEELING PAD CUP OF TEA', 'GARDENERS KNEELING PAD KEEP CALM']],\n",
       "  132),\n",
       " ([['LUNCH BAG BLACK SKULL', 'LUNCH BAG SPACEBOY DESIGN']], 132),\n",
       " ([['LUNCH BAG PINK POLKADOT', 'LUNCH BAG CARS BLUE']], 132)]"
      ]
     },
     "execution_count": 71,
     "metadata": {},
     "output_type": "execute_result"
    }
   ],
   "source": [
    "spmf_baskets_sequences = spmf_encode_with_timestamp(baskets_sequences)\n",
    "spmf = Spmf('HirateYamana', input_direct=spmf_baskets_sequences,  # http://www.philippe-fournier-viger.com/spmf/hirateyamana.pdf\n",
    "            arguments=[0.05, 0, 365, 0, 365])  # min_sup, min_gap, max_gap, min_span, max_span\n",
    "spmf.run()\n",
    "spmf_freq_patterns = spmf.to_pandas_dataframe()\n",
    "spmf_freq_patterns = [([[item.replace('_', ' ') for item in re.sub('(<\\d> )', '', event).split()] for event in sequence], sup) \n",
    "                      for sequence, sup in zip(spmf_freq_patterns.pattern, spmf_freq_patterns.sup)]\n",
    "spmf_freq_patterns.sort(key=lambda tup: (tup[1], neg(sequence_length(tup[0]))), reverse=True)\n",
    "list(filter(lambda freq_pattern: sequence_length(freq_pattern[0]) >= 2, spmf_freq_patterns))"
   ]
  },
  {
   "cell_type": "markdown",
   "metadata": {},
   "source": [
    "Custom implementation with time constraints:\n",
    "- the overall duration of the pattern instance must be at most of 1 month;\n",
    "- each element of the pattern instance must be at least 1 day after the previous one;\n",
    "- each element of the pattern instance must be at most 1 week after the previous one."
   ]
  },
  {
   "cell_type": "code",
   "execution_count": 70,
   "metadata": {},
   "outputs": [
    {
     "name": "stdout",
     "output_type": "stream",
     "text": [
      "CPU times: user 46min 25s, sys: 80 ms, total: 46min 25s\n",
      "Wall time: 46min 25s\n"
     ]
    },
    {
     "data": {
      "text/plain": [
       "[([['GREEN REGENCY TEACUP AND SAUCER', 'ROSES REGENCY TEACUP AND SAUCER']],\n",
       "  254),\n",
       " ([['PAPER CHAIN KIT CHRISTMAS', 'PAPER CHAIN KIT VINTAGE CHRISTMAS']], 247),\n",
       " ([['GREEN REGENCY TEACUP AND SAUCER', 'PINK REGENCY TEACUP AND SAUCER']],\n",
       "  239),\n",
       " ([['LUNCH BAG PINK POLKADOT', 'LUNCH BAG RED RETROSPOT']], 231),\n",
       " ([['LUNCH BAG BLACK SKULL', 'LUNCH BAG RED RETROSPOT']], 228),\n",
       " ([['LUNCH BAG CARS BLUE', 'LUNCH BAG RED RETROSPOT']], 225),\n",
       " ([['PARTY BUNTING', 'SPOTTY BUNTING']], 223),\n",
       " ([['GARDENERS KNEELING PAD CUP OF TEA', 'GARDENERS KNEELING PAD KEEP CALM']],\n",
       "  222),\n",
       " ([['HEART OF WICKER LARGE', 'HEART OF WICKER SMALL']], 222),\n",
       " ([['LUNCH BAG RED RETROSPOT', 'LUNCH BAG SUKI DESIGN']], 222),\n",
       " ([['JUMBO BAG PINK POLKADOT', 'JUMBO BAG RED RETROSPOT']], 221),\n",
       " ([['PINK REGENCY TEACUP AND SAUCER', 'ROSES REGENCY TEACUP AND SAUCER']],\n",
       "  220),\n",
       " ([['LUNCH BAG CARS BLUE', 'LUNCH BAG PINK POLKADOT']], 218),\n",
       " ([['LUNCH BAG CARS BLUE', 'LUNCH BAG SUKI DESIGN']], 215),\n",
       " ([['LUNCH BAG RED RETROSPOT', 'LUNCH BAG SPACEBOY DESIGN']], 215),\n",
       " ([['RED HANGING HEART TLIGHT HOLDER', 'WHITE HANGING HEART TLIGHT HOLDER']],\n",
       "  215),\n",
       " ([['REGENCY CAKESTAND TIER', 'ROSES REGENCY TEACUP AND SAUCER']], 215),\n",
       " ([['ALARM CLOCK BAKELIKE GREEN', 'ALARM CLOCK BAKELIKE RED']], 214),\n",
       " ([['LUNCH BAG BLACK SKULL', 'LUNCH BAG PINK POLKADOT']], 212),\n",
       " ([['JUMBO BAG RED RETROSPOT', 'LUNCH BAG RED RETROSPOT']], 205),\n",
       " ([['LUNCH BAG SPACEBOY DESIGN', 'LUNCH BAG SUKI DESIGN']], 205),\n",
       " ([['GREEN REGENCY TEACUP AND SAUCER',\n",
       "    'PINK REGENCY TEACUP AND SAUCER',\n",
       "    'ROSES REGENCY TEACUP AND SAUCER']],\n",
       "  205),\n",
       " ([['LUNCH BAG BLACK SKULL', 'LUNCH BAG SUKI DESIGN']], 204),\n",
       " ([['WOODEN FRAME ANTIQUE WHITE', 'WOODEN PICTURE FRAME WHITE FINISH']], 204),\n",
       " ([['LUNCH BAG SPACEBOY DESIGN', 'LUNCH BAG WOODLAND']], 200),\n",
       " ([['LUNCH BAG RED RETROSPOT', 'LUNCH BAG WOODLAND']], 196),\n",
       " ([['PACK OF PINK PAISLEY CAKE CASES', 'PACK OF RETROSPOT CAKE CASES']], 195),\n",
       " ([['WOODEN HEART CHRISTMAS SCANDINAVIAN',\n",
       "    'WOODEN STAR CHRISTMAS SCANDINAVIAN']],\n",
       "  195),\n",
       " ([['GREEN REGENCY TEACUP AND SAUCER', 'REGENCY CAKESTAND TIER']], 194),\n",
       " ([['LUNCH BAG BLACK SKULL', 'LUNCH BAG SPACEBOY DESIGN']], 194),\n",
       " ([['LUNCH BAG CARS BLUE', 'LUNCH BAG SPACEBOY DESIGN']], 194),\n",
       " ([['PACK OF RETROSPOT CAKE CASES', 'TEATIME FAIRY CAKE CASES']], 189),\n",
       " ([['DOLLY GIRL LUNCH BOX', 'SPACEBOY LUNCH BOX']], 188),\n",
       " ([['LUNCH BAG BLACK SKULL', 'LUNCH BAG CARS BLUE']], 188),\n",
       " ([['SET OF CAKE TINS PANTRY DESIGN', 'SET OF SPICE TINS PANTRY DESIGN']],\n",
       "  188),\n",
       " ([['BAKING SET PIECE RETROSPOT', 'BAKING SET SPACEBOY DESIGN']], 187),\n",
       " ([['LUNCH BAG PINK POLKADOT', 'LUNCH BAG SUKI DESIGN']], 187),\n",
       " ([['LUNCH BAG ALPHABET DESIGN', 'LUNCH BAG APPLE DESIGN']], 186),\n",
       " ([['LUNCH BAG APPLE DESIGN', 'LUNCH BAG RED RETROSPOT']], 186),\n",
       " ([['ALARM CLOCK BAKELIKE PINK', 'ALARM CLOCK BAKELIKE RED']], 185)]"
      ]
     },
     "execution_count": 70,
     "metadata": {},
     "output_type": "execute_result"
    }
   ],
   "source": [
    "%time custom_freq_patterns = gsp(baskets_sequences, min_sup=0.07, max_span=30, min_gap=1, max_gap=7, verbose=False)\n",
    "list(filter(lambda freq_pattern: sequence_length(freq_pattern[0]) >= 2, custom_freq_patterns))"
   ]
  },
  {
   "cell_type": "markdown",
   "metadata": {},
   "source": [
    "SPMF implementation with the same time constraints:"
   ]
  },
  {
   "cell_type": "code",
   "execution_count": 72,
   "metadata": {},
   "outputs": [
    {
     "name": "stdout",
     "output_type": "stream",
     "text": [
      ">/home/donato/donato.meoli.95@gmail.com/DataMiningUniPi/DM_Group18_TASK4/spmf.jar\n",
      "=============  Algorithm - STATISTICS =============\n",
      " Total time ~ 2607 ms\n",
      " Frequent sequences count : 527\n",
      "===================================================\n",
      "\n",
      "Post-processing to show result in terms of string values.\n",
      "Post-processing completed.\n",
      "\n"
     ]
    },
    {
     "data": {
      "text/plain": [
       "[([['GREEN REGENCY TEACUP AND SAUCER', 'PINK REGENCY TEACUP AND SAUCER']],\n",
       "  167),\n",
       " ([['LUNCH BAG PINK POLKADOT', 'LUNCH BAG RED RETROSPOT']], 160),\n",
       " ([['GREEN REGENCY TEACUP AND SAUCER', 'ROSES REGENCY TEACUP AND SAUCER']],\n",
       "  159),\n",
       " ([['JUMBO BAG PINK POLKADOT', 'JUMBO BAG RED RETROSPOT']], 158),\n",
       " ([['LUNCH BAG RED RETROSPOT', 'LUNCH BAG BLACK SKULL']], 153),\n",
       " ([['PAPER CHAIN KIT CHRISTMAS', 'PAPER CHAIN KIT VINTAGE CHRISTMAS']], 151),\n",
       " ([['ROSES REGENCY TEACUP AND SAUCER', 'GREEN REGENCY TEACUP AND SAUCER']],\n",
       "  150),\n",
       " ([['LUNCH BAG CARS BLUE', 'LUNCH BAG RED RETROSPOT']], 150),\n",
       " ([['LUNCH BAG RED RETROSPOT', 'LUNCH BAG PINK POLKADOT']], 150),\n",
       " ([['LUNCH BAG CARS BLUE', 'LUNCH BAG PINK POLKADOT']], 149),\n",
       " ([['ALARM CLOCK BAKELIKE RED', 'ALARM CLOCK BAKELIKE GREEN']], 147),\n",
       " ([['LUNCH BAG SUKI DESIGN', 'LUNCH BAG SPACEBOY DESIGN']], 147),\n",
       " ([['GARDENERS KNEELING PAD KEEP CALM', 'GARDENERS KNEELING PAD CUP OF TEA']],\n",
       "  146),\n",
       " ([['ALARM CLOCK BAKELIKE GREEN', 'ALARM CLOCK BAKELIKE RED']], 145),\n",
       " ([['LUNCH BAG SUKI DESIGN', 'LUNCH BAG RED RETROSPOT']], 145),\n",
       " ([['LUNCH BAG BLACK SKULL', 'LUNCH BAG RED RETROSPOT']], 144),\n",
       " ([['LUNCH BAG RED RETROSPOT', 'LUNCH BAG SUKI DESIGN']], 144),\n",
       " ([['ROSES REGENCY TEACUP AND SAUCER', 'PINK REGENCY TEACUP AND SAUCER']],\n",
       "  142),\n",
       " ([['PARTY BUNTING', 'SPOTTY BUNTING']], 141),\n",
       " ([['LUNCH BAG RED RETROSPOT', 'LUNCH BAG CARS BLUE']], 141),\n",
       " ([['LUNCH BAG PINK POLKADOT', 'LUNCH BAG BLACK SKULL']], 141),\n",
       " ([['LUNCH BAG BLACK SKULL', 'LUNCH BAG SUKI DESIGN']], 140),\n",
       " ([['LUNCH BAG BLACK SKULL', 'LUNCH BAG PINK POLKADOT']], 140),\n",
       " ([['JUMBO BAG RED RETROSPOT', 'JUMBO BAG PINK POLKADOT']], 139),\n",
       " ([['PAPER CHAIN KIT VINTAGE CHRISTMAS', 'PAPER CHAIN KIT CHRISTMAS']], 139),\n",
       " ([['LUNCH BAG CARS BLUE', 'LUNCH BAG SUKI DESIGN']], 139),\n",
       " ([['JUMBO BAG RED RETROSPOT', 'LUNCH BAG RED RETROSPOT']], 138),\n",
       " ([['RED HANGING HEART TLIGHT HOLDER', 'WHITE HANGING HEART TLIGHT HOLDER']],\n",
       "  137),\n",
       " ([['LUNCH BAG SUKI DESIGN', 'LUNCH BAG CARS BLUE']], 137),\n",
       " ([['LUNCH BAG SPACEBOY DESIGN', 'LUNCH BAG RED RETROSPOT']], 136),\n",
       " ([['LUNCH BAG RED RETROSPOT', 'LUNCH BAG SPACEBOY DESIGN']], 135),\n",
       " ([['LUNCH BAG SUKI DESIGN', 'LUNCH BAG BLACK SKULL']], 135),\n",
       " ([['WOODEN PICTURE FRAME WHITE FINISH', 'WOODEN FRAME ANTIQUE WHITE']], 134),\n",
       " ([['LUNCH BAG WOODLAND', 'LUNCH BAG SPACEBOY DESIGN']], 133),\n",
       " ([['WOODEN FRAME ANTIQUE WHITE', 'WOODEN PICTURE FRAME WHITE FINISH']], 133),\n",
       " ([['GARDENERS KNEELING PAD CUP OF TEA', 'GARDENERS KNEELING PAD KEEP CALM']],\n",
       "  132),\n",
       " ([['LUNCH BAG BLACK SKULL', 'LUNCH BAG SPACEBOY DESIGN']], 132),\n",
       " ([['LUNCH BAG PINK POLKADOT', 'LUNCH BAG CARS BLUE']], 132)]"
      ]
     },
     "execution_count": 72,
     "metadata": {},
     "output_type": "execute_result"
    }
   ],
   "source": [
    "spmf_baskets_sequences = spmf_encode_with_timestamp(baskets_sequences)\n",
    "spmf = Spmf('HirateYamana', input_direct=spmf_baskets_sequences,  # http://www.philippe-fournier-viger.com/spmf/hirateyamana.pdf\n",
    "            arguments=[0.05, 1, 7, 0, 30])  # min_sup, min_gap, max_gap, min_span, max_span\n",
    "spmf.run()\n",
    "spmf_freq_patterns = spmf.to_pandas_dataframe()\n",
    "spmf_freq_patterns = [([[item.replace('_', ' ') for item in re.sub('(<\\d> )', '', event).split()] for event in sequence], sup) \n",
    "                      for sequence, sup in zip(spmf_freq_patterns.pattern, spmf_freq_patterns.sup)]\n",
    "spmf_freq_patterns.sort(key=lambda tup: (tup[1], neg(sequence_length(tup[0]))), reverse=True)\n",
    "list(filter(lambda freq_pattern: sequence_length(freq_pattern[0]) >= 2, spmf_freq_patterns))"
   ]
  },
  {
   "cell_type": "markdown",
   "metadata": {},
   "source": [
    "Please notice that since probably SPMF uses a different counting method for the sequences support with more than one item in the same event, some frequent patterns resulting from the custom implementation will be visible as a result of the SPMF implementation with lower support after reducing the *min_sup* value."
   ]
  }
 ],
 "metadata": {
  "kernelspec": {
   "display_name": "Python 3",
   "language": "python",
   "name": "python3"
  },
  "language_info": {
   "codemirror_mode": {
    "name": "ipython",
    "version": 3
   },
   "file_extension": ".py",
   "mimetype": "text/x-python",
   "name": "python",
   "nbconvert_exporter": "python",
   "pygments_lexer": "ipython3",
   "version": "3.8.6"
  }
 },
 "nbformat": 4,
 "nbformat_minor": 4
}
